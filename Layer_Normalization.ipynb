{
 "cells": [
  {
   "cell_type": "code",
   "execution_count": 1,
   "metadata": {},
   "outputs": [],
   "source": [
    "import torch\n",
    "import torch.nn as nn"
   ]
  },
  {
   "cell_type": "code",
   "execution_count": 3,
   "metadata": {},
   "outputs": [
    {
     "data": {
      "text/plain": [
       "torch.Size([2, 1, 3])"
      ]
     },
     "execution_count": 3,
     "metadata": {},
     "output_type": "execute_result"
    }
   ],
   "source": [
    "inputs = torch.Tensor([[[0.2, 0.2, 0.3], [0.5, 0.1, 0.1]]])\n",
    "B, S, E = inputs.size()\n",
    "inputs = inputs.reshape(S, B, E)\n",
    "inputs.size()"
   ]
  },
  {
   "cell_type": "code",
   "execution_count": 5,
   "metadata": {},
   "outputs": [],
   "source": [
    "parameter_shape = inputs.size()[-2:]\n",
    "gamma = nn.Parameter(torch.ones(parameter_shape))\n",
    "beta = nn.Parameter(torch.zeros(parameter_shape))"
   ]
  },
  {
   "cell_type": "code",
   "execution_count": 6,
   "metadata": {},
   "outputs": [
    {
     "data": {
      "text/plain": [
       "(torch.Size([1, 3]), torch.Size([1, 3]))"
      ]
     },
     "execution_count": 6,
     "metadata": {},
     "output_type": "execute_result"
    }
   ],
   "source": [
    "gamma.size(), beta.size()"
   ]
  },
  {
   "cell_type": "code",
   "execution_count": 7,
   "metadata": {},
   "outputs": [],
   "source": [
    "dims = [-(i + 1) for i in range(len(parameter_shape))]"
   ]
  },
  {
   "cell_type": "code",
   "execution_count": 8,
   "metadata": {},
   "outputs": [
    {
     "data": {
      "text/plain": [
       "[-1, -2]"
      ]
     },
     "execution_count": 8,
     "metadata": {},
     "output_type": "execute_result"
    }
   ],
   "source": [
    "dims"
   ]
  },
  {
   "cell_type": "code",
   "execution_count": 9,
   "metadata": {},
   "outputs": [
    {
     "data": {
      "text/plain": [
       "torch.Size([2, 1, 1])"
      ]
     },
     "execution_count": 9,
     "metadata": {},
     "output_type": "execute_result"
    }
   ],
   "source": [
    "mean = inputs.mean(dim=dims, keepdim=True)\n",
    "mean.size()"
   ]
  },
  {
   "cell_type": "code",
   "execution_count": 10,
   "metadata": {},
   "outputs": [
    {
     "data": {
      "text/plain": [
       "tensor([[[0.2333]],\n",
       "\n",
       "        [[0.2333]]])"
      ]
     },
     "execution_count": 10,
     "metadata": {},
     "output_type": "execute_result"
    }
   ],
   "source": [
    "mean"
   ]
  },
  {
   "cell_type": "code",
   "execution_count": 11,
   "metadata": {},
   "outputs": [
    {
     "data": {
      "text/plain": [
       "tensor([[[0.0472]],\n",
       "\n",
       "        [[0.1886]]])"
      ]
     },
     "execution_count": 11,
     "metadata": {},
     "output_type": "execute_result"
    }
   ],
   "source": [
    "var = ((inputs - mean) ** 2).mean(dim=dims, keepdim=True)\n",
    "epsilon = 1e-5\n",
    "std = (var + epsilon).sqrt()\n",
    "std"
   ]
  },
  {
   "cell_type": "code",
   "execution_count": 12,
   "metadata": {},
   "outputs": [
    {
     "data": {
      "text/plain": [
       "tensor([[[-0.7055, -0.7055,  1.4110]],\n",
       "\n",
       "        [[ 1.4140, -0.7070, -0.7070]]])"
      ]
     },
     "execution_count": 12,
     "metadata": {},
     "output_type": "execute_result"
    }
   ],
   "source": [
    "y = (inputs - mean) / std\n",
    "y"
   ]
  },
  {
   "cell_type": "code",
   "execution_count": 13,
   "metadata": {},
   "outputs": [],
   "source": [
    "out = gamma * y + beta"
   ]
  },
  {
   "cell_type": "code",
   "execution_count": 14,
   "metadata": {},
   "outputs": [
    {
     "data": {
      "text/plain": [
       "tensor([[[-0.7055, -0.7055,  1.4110]],\n",
       "\n",
       "        [[ 1.4140, -0.7070, -0.7070]]], grad_fn=<AddBackward0>)"
      ]
     },
     "execution_count": 14,
     "metadata": {},
     "output_type": "execute_result"
    }
   ],
   "source": [
    "out"
   ]
  },
  {
   "cell_type": "code",
   "execution_count": 18,
   "metadata": {},
   "outputs": [],
   "source": [
    "import torch\n",
    "import torch.nn as nn\n",
    "\n",
    "\n",
    "class LayerNormalization():\n",
    "    def __init__(self, parameter_shape, eps=1e-5):\n",
    "        self.parameters_shape = parameter_shape\n",
    "        self.eps = eps \n",
    "        self.gamma = nn.Parameter(torch.ones(self.parameters_shape))\n",
    "        self.beta = nn.Parameter(torch.zeros(self.parameters_shape))\n",
    "\n",
    "    def forward(self, input):\n",
    "        dims = [-(i + 1) for i in range(len(self.parameters_shape))]\n",
    "        mean = inputs.mean(dim=dims, keepdim=True)\n",
    "        print(f\"Mean \\n ({mean.size}): \\n {mean}\")\n",
    "        var = ((inputs - mean) ** 2).mean(dim=dims, keepdim=True)\n",
    "        std = (var + self.eps).sqrt()\n",
    "        print(f\"Standard Deviation \\n ({std.size()}): \\n {std}\")\n",
    "        y = (inputs - mean) / std\n",
    "        print(f\"y \\n ({y.size()}) = \\n {y}\")\n",
    "        out = self.gamma * y + self.beta\n",
    "        print(f\"out \\n ({out.size()}) = \\n {out}\")\n",
    "        return out"
   ]
  },
  {
   "cell_type": "code",
   "execution_count": 19,
   "metadata": {},
   "outputs": [
    {
     "name": "stdout",
     "output_type": "stream",
     "text": [
      "input \n",
      " (torch.Size([5, 3, 8])) = \n",
      " tensor([[[-0.3561,  0.2991, -1.4702, -0.6417,  0.3707, -0.1030, -0.1629,\n",
      "          -0.4121],\n",
      "         [ 0.9399,  1.2281, -0.9997, -0.9131, -1.3375,  0.2015,  0.6699,\n",
      "          -0.2099],\n",
      "         [-0.3110, -0.0057,  1.9998, -1.8400,  0.3293, -0.5319,  0.7293,\n",
      "           1.8712]],\n",
      "\n",
      "        [[ 1.5988,  0.0834,  0.0667,  0.3253, -0.0074,  1.4089, -0.1865,\n",
      "           0.5196],\n",
      "         [ 1.4813, -0.8957, -0.4193, -1.9212,  1.6492,  1.3907, -0.1602,\n",
      "           1.2010],\n",
      "         [ 0.0153,  0.1080, -2.0106, -1.6527, -0.9883,  0.0354, -0.3848,\n",
      "          -0.4003]],\n",
      "\n",
      "        [[ 0.7585,  1.0235,  2.9801,  0.2266,  1.6051,  0.1240, -0.5304,\n",
      "          -0.7618],\n",
      "         [-1.6509, -1.4932, -0.9333,  0.6900, -0.1239,  2.1946,  1.0553,\n",
      "           1.4852],\n",
      "         [-0.1474,  1.1900,  0.3185,  1.4951,  1.3868,  0.3076,  0.9422,\n",
      "          -1.4083]],\n",
      "\n",
      "        [[ 0.5537,  1.2516,  0.1959, -1.0799, -0.4477, -0.1156,  0.3852,\n",
      "          -0.1058],\n",
      "         [ 0.9783,  0.2999, -0.4602,  0.3113, -0.1222,  0.8136, -0.9655,\n",
      "           0.8237],\n",
      "         [-0.4614,  1.7257,  0.5337, -0.2120,  2.0479,  1.4700, -1.2084,\n",
      "          -0.7733]],\n",
      "\n",
      "        [[-1.9328,  0.1465,  1.2078,  0.9029,  0.6888,  0.8384, -0.4597,\n",
      "           0.2269],\n",
      "         [ 0.1899,  1.1359,  0.4111, -1.0339, -3.4052,  0.2429, -0.7242,\n",
      "          -0.0587],\n",
      "         [ 0.2579, -1.2619,  1.2578,  0.2847,  0.0333,  0.1631,  0.1315,\n",
      "          -1.1738]]])\n"
     ]
    }
   ],
   "source": [
    "batch_size = 3\n",
    "sentence_length = 5\n",
    "embedding_dim = 8\n",
    "inputs = torch.randn(sentence_length, batch_size, embedding_dim)\n",
    "\n",
    "print(f\"input \\n ({inputs.size()}) = \\n {inputs}\")"
   ]
  },
  {
   "cell_type": "code",
   "execution_count": 20,
   "metadata": {},
   "outputs": [],
   "source": [
    "layer_norm = LayerNormalization(inputs.size() [-2:])"
   ]
  },
  {
   "cell_type": "code",
   "execution_count": 22,
   "metadata": {},
   "outputs": [
    {
     "name": "stdout",
     "output_type": "stream",
     "text": [
      "Mean \n",
      " (<built-in method size of Tensor object at 0x0000020E94691BC0>): \n",
      " tensor([[[-0.0273]],\n",
      "\n",
      "        [[ 0.0357]],\n",
      "\n",
      "        [[ 0.4472]],\n",
      "\n",
      "        [[ 0.2266]],\n",
      "\n",
      "        [[-0.0804]]])\n",
      "Standard Deviation \n",
      " (torch.Size([5, 1, 1])): \n",
      " tensor([[[0.9480]],\n",
      "\n",
      "        [[1.0406]],\n",
      "\n",
      "        [[1.1606]],\n",
      "\n",
      "        [[0.8611]],\n",
      "\n",
      "        [[1.0569]]])\n",
      "y \n",
      " (torch.Size([5, 3, 8])) = \n",
      " tensor([[[-3.4675e-01,  3.4436e-01, -1.5220e+00, -6.4808e-01,  4.1987e-01,\n",
      "          -7.9805e-02, -1.4303e-01, -4.0589e-01],\n",
      "         [ 1.0203e+00,  1.3243e+00, -1.0257e+00, -9.3437e-01, -1.3820e+00,\n",
      "           2.4137e-01,  7.3547e-01, -1.9253e-01],\n",
      "         [-2.9924e-01,  2.2781e-02,  2.1383e+00, -1.9121e+00,  3.7621e-01,\n",
      "          -5.3222e-01,  7.9816e-01,  2.0027e+00]],\n",
      "\n",
      "        [[ 1.5021e+00,  4.5862e-02,  2.9779e-02,  2.7834e-01, -4.1411e-02,\n",
      "           1.3196e+00, -2.1348e-01,  4.6500e-01],\n",
      "         [ 1.3891e+00, -8.9502e-01, -4.3727e-01, -1.8805e+00,  1.5505e+00,\n",
      "           1.3021e+00, -1.8826e-01,  1.1198e+00],\n",
      "         [-1.9640e-02,  6.9457e-02, -1.9664e+00, -1.6224e+00, -9.8399e-01,\n",
      "          -2.4615e-04, -4.0404e-01, -4.1896e-01]],\n",
      "\n",
      "        [[ 2.6820e-01,  4.9651e-01,  2.1824e+00, -1.9013e-01,  9.9769e-01,\n",
      "          -2.7856e-01, -8.4242e-01, -1.0418e+00],\n",
      "         [-1.8079e+00, -1.6720e+00, -1.1895e+00,  2.0918e-01, -4.9215e-01,\n",
      "           1.5057e+00,  5.2397e-01,  8.9432e-01],\n",
      "         [-5.1241e-01,  6.4002e-01, -1.1091e-01,  9.0292e-01,  8.0962e-01,\n",
      "          -1.2031e-01,  4.2645e-01, -1.5989e+00]],\n",
      "\n",
      "        [[ 3.7986e-01,  1.1904e+00, -3.5639e-02, -1.5172e+00, -7.8309e-01,\n",
      "          -3.9737e-01,  1.8422e-01, -3.8605e-01],\n",
      "         [ 8.7293e-01,  8.5084e-02, -7.9756e-01,  9.8382e-02, -4.0511e-01,\n",
      "           6.8169e-01, -1.3844e+00,  6.9337e-01],\n",
      "         [-7.9893e-01,  1.7409e+00,  3.5660e-01, -5.0937e-01,  2.1151e+00,\n",
      "           1.4440e+00, -1.6665e+00, -1.1612e+00]],\n",
      "\n",
      "        [[-1.7526e+00,  2.1470e-01,  1.2189e+00,  9.3041e-01,  7.2787e-01,\n",
      "           8.6935e-01, -3.5881e-01,  2.9080e-01],\n",
      "         [ 2.5580e-01,  1.1509e+00,  4.6513e-01, -9.0217e-01, -3.1458e+00,\n",
      "           3.0596e-01, -6.0910e-01,  2.0579e-02],\n",
      "         [ 3.2016e-01, -1.1179e+00,  1.2662e+00,  3.4554e-01,  1.0762e-01,\n",
      "           2.3046e-01,  2.0051e-01, -1.0345e+00]]])\n",
      "out \n",
      " (torch.Size([5, 3, 8])) = \n",
      " tensor([[[-3.4675e-01,  3.4436e-01, -1.5220e+00, -6.4808e-01,  4.1987e-01,\n",
      "          -7.9805e-02, -1.4303e-01, -4.0589e-01],\n",
      "         [ 1.0203e+00,  1.3243e+00, -1.0257e+00, -9.3437e-01, -1.3820e+00,\n",
      "           2.4137e-01,  7.3547e-01, -1.9253e-01],\n",
      "         [-2.9924e-01,  2.2781e-02,  2.1383e+00, -1.9121e+00,  3.7621e-01,\n",
      "          -5.3222e-01,  7.9816e-01,  2.0027e+00]],\n",
      "\n",
      "        [[ 1.5021e+00,  4.5862e-02,  2.9779e-02,  2.7834e-01, -4.1411e-02,\n",
      "           1.3196e+00, -2.1348e-01,  4.6500e-01],\n",
      "         [ 1.3891e+00, -8.9502e-01, -4.3727e-01, -1.8805e+00,  1.5505e+00,\n",
      "           1.3021e+00, -1.8826e-01,  1.1198e+00],\n",
      "         [-1.9640e-02,  6.9457e-02, -1.9664e+00, -1.6224e+00, -9.8399e-01,\n",
      "          -2.4615e-04, -4.0404e-01, -4.1896e-01]],\n",
      "\n",
      "        [[ 2.6820e-01,  4.9651e-01,  2.1824e+00, -1.9013e-01,  9.9769e-01,\n",
      "          -2.7856e-01, -8.4242e-01, -1.0418e+00],\n",
      "         [-1.8079e+00, -1.6720e+00, -1.1895e+00,  2.0918e-01, -4.9215e-01,\n",
      "           1.5057e+00,  5.2397e-01,  8.9432e-01],\n",
      "         [-5.1241e-01,  6.4002e-01, -1.1091e-01,  9.0292e-01,  8.0962e-01,\n",
      "          -1.2031e-01,  4.2645e-01, -1.5989e+00]],\n",
      "\n",
      "        [[ 3.7986e-01,  1.1904e+00, -3.5639e-02, -1.5172e+00, -7.8309e-01,\n",
      "          -3.9737e-01,  1.8422e-01, -3.8605e-01],\n",
      "         [ 8.7293e-01,  8.5084e-02, -7.9756e-01,  9.8382e-02, -4.0511e-01,\n",
      "           6.8169e-01, -1.3844e+00,  6.9337e-01],\n",
      "         [-7.9893e-01,  1.7409e+00,  3.5660e-01, -5.0937e-01,  2.1151e+00,\n",
      "           1.4440e+00, -1.6665e+00, -1.1612e+00]],\n",
      "\n",
      "        [[-1.7526e+00,  2.1470e-01,  1.2189e+00,  9.3041e-01,  7.2787e-01,\n",
      "           8.6935e-01, -3.5881e-01,  2.9080e-01],\n",
      "         [ 2.5580e-01,  1.1509e+00,  4.6513e-01, -9.0217e-01, -3.1458e+00,\n",
      "           3.0596e-01, -6.0910e-01,  2.0579e-02],\n",
      "         [ 3.2016e-01, -1.1179e+00,  1.2662e+00,  3.4554e-01,  1.0762e-01,\n",
      "           2.3046e-01,  2.0051e-01, -1.0345e+00]]], grad_fn=<AddBackward0>)\n"
     ]
    }
   ],
   "source": [
    "out = layer_norm.forward(inputs)"
   ]
  },
  {
   "cell_type": "code",
   "execution_count": null,
   "metadata": {},
   "outputs": [],
   "source": []
  }
 ],
 "metadata": {
  "kernelspec": {
   "display_name": "deeplearning",
   "language": "python",
   "name": "python3"
  },
  "language_info": {
   "codemirror_mode": {
    "name": "ipython",
    "version": 3
   },
   "file_extension": ".py",
   "mimetype": "text/x-python",
   "name": "python",
   "nbconvert_exporter": "python",
   "pygments_lexer": "ipython3",
   "version": "3.10.0"
  }
 },
 "nbformat": 4,
 "nbformat_minor": 2
}
