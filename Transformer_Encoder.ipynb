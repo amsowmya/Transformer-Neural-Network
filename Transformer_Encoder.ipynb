{
 "cells": [
  {
   "cell_type": "code",
   "execution_count": 7,
   "metadata": {},
   "outputs": [],
   "source": [
    "import encoder"
   ]
  },
  {
   "cell_type": "code",
   "execution_count": 8,
   "metadata": {},
   "outputs": [],
   "source": [
    "d_model = 512\n",
    "num_heads = 8\n",
    "drop_prob = 0.1\n",
    "batch_size = 30\n",
    "max_sequence_length = 200\n",
    "ffn_hidden = 2048\n",
    "num_layers = 5\n",
    "\n",
    "encoder = encoder.Encoder(d_model, ffn_hidden, num_heads, drop_prob, num_layers)"
   ]
  },
  {
   "cell_type": "code",
   "execution_count": 9,
   "metadata": {},
   "outputs": [
    {
     "data": {
      "text/plain": [
       "Encoder(\n",
       "  (layers): Sequential(\n",
       "    (0): EncoderLayer(\n",
       "      (attention): MultiHeadAttention(\n",
       "        (qkv_layer): Linear(in_features=512, out_features=1536, bias=True)\n",
       "        (linear_layer): Linear(in_features=512, out_features=512, bias=True)\n",
       "      )\n",
       "      (norm1): LayerNormalization()\n",
       "      (dropout1): Dropout(p=0.1, inplace=False)\n",
       "      (ffn): PositionwiseFeedForward(\n",
       "        (linear1): Linear(in_features=512, out_features=2048, bias=True)\n",
       "        (linear2): Linear(in_features=2048, out_features=512, bias=True)\n",
       "        (relu): ReLU()\n",
       "        (dropout): Dropout(p=0.1, inplace=False)\n",
       "      )\n",
       "      (norm2): LayerNormalization()\n",
       "      (dropout2): Dropout(p=0.1, inplace=False)\n",
       "    )\n",
       "    (1): EncoderLayer(\n",
       "      (attention): MultiHeadAttention(\n",
       "        (qkv_layer): Linear(in_features=512, out_features=1536, bias=True)\n",
       "        (linear_layer): Linear(in_features=512, out_features=512, bias=True)\n",
       "      )\n",
       "      (norm1): LayerNormalization()\n",
       "      (dropout1): Dropout(p=0.1, inplace=False)\n",
       "      (ffn): PositionwiseFeedForward(\n",
       "        (linear1): Linear(in_features=512, out_features=2048, bias=True)\n",
       "        (linear2): Linear(in_features=2048, out_features=512, bias=True)\n",
       "        (relu): ReLU()\n",
       "        (dropout): Dropout(p=0.1, inplace=False)\n",
       "      )\n",
       "      (norm2): LayerNormalization()\n",
       "      (dropout2): Dropout(p=0.1, inplace=False)\n",
       "    )\n",
       "    (2): EncoderLayer(\n",
       "      (attention): MultiHeadAttention(\n",
       "        (qkv_layer): Linear(in_features=512, out_features=1536, bias=True)\n",
       "        (linear_layer): Linear(in_features=512, out_features=512, bias=True)\n",
       "      )\n",
       "      (norm1): LayerNormalization()\n",
       "      (dropout1): Dropout(p=0.1, inplace=False)\n",
       "      (ffn): PositionwiseFeedForward(\n",
       "        (linear1): Linear(in_features=512, out_features=2048, bias=True)\n",
       "        (linear2): Linear(in_features=2048, out_features=512, bias=True)\n",
       "        (relu): ReLU()\n",
       "        (dropout): Dropout(p=0.1, inplace=False)\n",
       "      )\n",
       "      (norm2): LayerNormalization()\n",
       "      (dropout2): Dropout(p=0.1, inplace=False)\n",
       "    )\n",
       "    (3): EncoderLayer(\n",
       "      (attention): MultiHeadAttention(\n",
       "        (qkv_layer): Linear(in_features=512, out_features=1536, bias=True)\n",
       "        (linear_layer): Linear(in_features=512, out_features=512, bias=True)\n",
       "      )\n",
       "      (norm1): LayerNormalization()\n",
       "      (dropout1): Dropout(p=0.1, inplace=False)\n",
       "      (ffn): PositionwiseFeedForward(\n",
       "        (linear1): Linear(in_features=512, out_features=2048, bias=True)\n",
       "        (linear2): Linear(in_features=2048, out_features=512, bias=True)\n",
       "        (relu): ReLU()\n",
       "        (dropout): Dropout(p=0.1, inplace=False)\n",
       "      )\n",
       "      (norm2): LayerNormalization()\n",
       "      (dropout2): Dropout(p=0.1, inplace=False)\n",
       "    )\n",
       "    (4): EncoderLayer(\n",
       "      (attention): MultiHeadAttention(\n",
       "        (qkv_layer): Linear(in_features=512, out_features=1536, bias=True)\n",
       "        (linear_layer): Linear(in_features=512, out_features=512, bias=True)\n",
       "      )\n",
       "      (norm1): LayerNormalization()\n",
       "      (dropout1): Dropout(p=0.1, inplace=False)\n",
       "      (ffn): PositionwiseFeedForward(\n",
       "        (linear1): Linear(in_features=512, out_features=2048, bias=True)\n",
       "        (linear2): Linear(in_features=2048, out_features=512, bias=True)\n",
       "        (relu): ReLU()\n",
       "        (dropout): Dropout(p=0.1, inplace=False)\n",
       "      )\n",
       "      (norm2): LayerNormalization()\n",
       "      (dropout2): Dropout(p=0.1, inplace=False)\n",
       "    )\n",
       "  )\n",
       ")"
      ]
     },
     "execution_count": 9,
     "metadata": {},
     "output_type": "execute_result"
    }
   ],
   "source": [
    "encoder"
   ]
  },
  {
   "cell_type": "code",
   "execution_count": null,
   "metadata": {},
   "outputs": [],
   "source": []
  }
 ],
 "metadata": {
  "kernelspec": {
   "display_name": "deeplearning",
   "language": "python",
   "name": "python3"
  },
  "language_info": {
   "codemirror_mode": {
    "name": "ipython",
    "version": 3
   },
   "file_extension": ".py",
   "mimetype": "text/x-python",
   "name": "python",
   "nbconvert_exporter": "python",
   "pygments_lexer": "ipython3",
   "version": "3.10.0"
  }
 },
 "nbformat": 4,
 "nbformat_minor": 2
}
